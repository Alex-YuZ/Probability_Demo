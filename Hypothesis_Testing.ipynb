{
 "cells": [
  {
   "cell_type": "code",
   "execution_count": 2,
   "id": "56b753b2",
   "metadata": {},
   "outputs": [],
   "source": [
    "os.chdir(\"projects_on_GitHub/POC/python_probability_practices\")"
   ]
  },
  {
   "cell_type": "markdown",
   "id": "0be26378",
   "metadata": {},
   "source": [
    "## Hypothesis Testing\n",
    "\n",
    "In hypothesis testing, we could simulate a sampling distribution from the null hypothesis using characteristics that would be true if our data came from the null."
   ]
  },
  {
   "cell_type": "markdown",
   "id": "afaa9dde",
   "metadata": {},
   "source": [
    "### Example: Average height of all individuals are higher than 70 or not?\n",
    "Whether the average height of coffee drinkers (including both coffee drinkers and non-coffee drinkers) is higher than 70 or not?\n",
    "\n",
    "$$H_0: \\mu_0 \\leq 70$$\n",
    "\n",
    "$$H_1: \\mu_0 \\gt 70$$"
   ]
  },
  {
   "cell_type": "markdown",
   "id": "409fac62",
   "metadata": {},
   "source": [
    "#### Original Method"
   ]
  },
  {
   "cell_type": "code",
   "execution_count": 5,
   "id": "62b53117",
   "metadata": {},
   "outputs": [
    {
     "data": {
      "text/html": [
       "<div>\n",
       "<style scoped>\n",
       "    .dataframe tbody tr th:only-of-type {\n",
       "        vertical-align: middle;\n",
       "    }\n",
       "\n",
       "    .dataframe tbody tr th {\n",
       "        vertical-align: top;\n",
       "    }\n",
       "\n",
       "    .dataframe thead th {\n",
       "        text-align: right;\n",
       "    }\n",
       "</style>\n",
       "<table border=\"1\" class=\"dataframe\">\n",
       "  <thead>\n",
       "    <tr style=\"text-align: right;\">\n",
       "      <th></th>\n",
       "      <th>user_id</th>\n",
       "      <th>age</th>\n",
       "      <th>drinks_coffee</th>\n",
       "      <th>height</th>\n",
       "    </tr>\n",
       "  </thead>\n",
       "  <tbody>\n",
       "    <tr>\n",
       "      <th>0</th>\n",
       "      <td>4509</td>\n",
       "      <td>&lt;21</td>\n",
       "      <td>False</td>\n",
       "      <td>64.538179</td>\n",
       "    </tr>\n",
       "    <tr>\n",
       "      <th>1</th>\n",
       "      <td>1864</td>\n",
       "      <td>&gt;=21</td>\n",
       "      <td>True</td>\n",
       "      <td>65.824249</td>\n",
       "    </tr>\n",
       "    <tr>\n",
       "      <th>2</th>\n",
       "      <td>2060</td>\n",
       "      <td>&lt;21</td>\n",
       "      <td>False</td>\n",
       "      <td>71.319854</td>\n",
       "    </tr>\n",
       "    <tr>\n",
       "      <th>3</th>\n",
       "      <td>7875</td>\n",
       "      <td>&gt;=21</td>\n",
       "      <td>True</td>\n",
       "      <td>68.569404</td>\n",
       "    </tr>\n",
       "    <tr>\n",
       "      <th>4</th>\n",
       "      <td>6254</td>\n",
       "      <td>&lt;21</td>\n",
       "      <td>True</td>\n",
       "      <td>64.020226</td>\n",
       "    </tr>\n",
       "  </tbody>\n",
       "</table>\n",
       "</div>"
      ],
      "text/plain": [
       "   user_id   age  drinks_coffee     height\n",
       "0     4509   <21          False  64.538179\n",
       "1     1864  >=21           True  65.824249\n",
       "2     2060   <21          False  71.319854\n",
       "3     7875  >=21           True  68.569404\n",
       "4     6254   <21           True  64.020226"
      ]
     },
     "execution_count": 5,
     "metadata": {},
     "output_type": "execute_result"
    }
   ],
   "source": [
    "df = pd.read_csv('coffee_dataset.csv')\n",
    "df.head()"
   ]
  },
  {
   "cell_type": "code",
   "execution_count": 8,
   "id": "32997b54",
   "metadata": {},
   "outputs": [
    {
     "data": {
      "text/plain": [
       "(150, 4)"
      ]
     },
     "execution_count": 8,
     "metadata": {},
     "output_type": "execute_result"
    }
   ],
   "source": [
    "np.random.seed(42)\n",
    "sample150 = df.sample(150)\n",
    "sample150.shape"
   ]
  },
  {
   "cell_type": "code",
   "execution_count": 9,
   "id": "dd59b952",
   "metadata": {},
   "outputs": [],
   "source": [
    "mns = []\n",
    "for _ in range(10000):\n",
    "    bootstrap = sample150.sample(150, replace=True)\n",
    "    mns.append(bootstrap.height.mean())"
   ]
  },
  {
   "cell_type": "code",
   "execution_count": 12,
   "id": "5f3a888b",
   "metadata": {},
   "outputs": [
    {
     "data": {
      "text/plain": [
       "(67.10258508046547, 68.15617490636113)"
      ]
     },
     "execution_count": 12,
     "metadata": {},
     "output_type": "execute_result"
    }
   ],
   "source": [
    "lower_bound, upper_bound = np.percentile(mns, [2.5, 97.5])\n",
    "lower_bound, upper_bound"
   ]
  },
  {
   "cell_type": "code",
   "execution_count": 25,
   "id": "98182bbe",
   "metadata": {},
   "outputs": [
    {
     "data": {
      "image/png": "[encoded data removed]",
      "text/plain": [
       "<Figure size 432x288 with 1 Axes>"
      ]
     },
     "metadata": {
      "needs_background": "light"
     },
     "output_type": "display_data"
    }
   ],
   "source": [
    "plt.hist(mns)\n",
    "\n",
    "plt.axvline(lower_bound, color='red', linestyle='--')\n",
    "plt.axvline(upper_bound, color='red', linestyle='--')\n",
    "\n",
    "plt.text(lower_bound-.25, 2500, s=\"{:.2f}\".format(lower_bound), color='red')\n",
    "plt.text(upper_bound+.03, 2500, s=\"{:.2f}\".format(upper_bound), color='red');"
   ]
  },
  {
   "cell_type": "markdown",
   "id": "9467aad2",
   "metadata": {},
   "source": [
    "**Conclusion:** we believe the average height of the individuals in the dataset is less than 70."
   ]
  },
  {
   "cell_type": "markdown",
   "id": "967dddac",
   "metadata": {},
   "source": [
    "#### A professional way ...\n",
    "\n",
    "___Step 1:___ we simulate from the closest value to the alternative that is still in the null space.\n",
    "\n",
    "___Step 2:___ we simulate the distribution under the assumption that the null hypothesis is true. (According to the central limit theorem, the mean of sampling distribution would be normal distribution.)"
   ]
  },
  {
   "cell_type": "code",
   "execution_count": 28,
   "id": "c739d7b6",
   "metadata": {},
   "outputs": [
    {
     "data": {
      "text/plain": [
       "0.2658039514418038"
      ]
     },
     "execution_count": 28,
     "metadata": {},
     "output_type": "execute_result"
    }
   ],
   "source": [
    "mns_std = np.std(mns)\n",
    "mns_std"
   ]
  },
  {
   "cell_type": "code",
   "execution_count": 30,
   "id": "4e15238d",
   "metadata": {},
   "outputs": [
    {
     "data": {
      "image/png": "[encoded data removed]",
      "text/plain": [
       "<Figure size 432x288 with 1 Axes>"
      ]
     },
     "metadata": {
      "needs_background": "light"
     },
     "output_type": "display_data"
    }
   ],
   "source": [
    "plt.hist(np.random.normal(loc=70, scale=mns_std, size=10000));"
   ]
  },
  {
   "cell_type": "code",
   "execution_count": 31,
   "id": "28af4425",
   "metadata": {},
   "outputs": [
    {
     "data": {
      "text/plain": [
       "67.63297688228066"
      ]
     },
     "execution_count": 31,
     "metadata": {},
     "output_type": "execute_result"
    }
   ],
   "source": [
    "mean_sample150 = sample150.height.mean()\n",
    "mean_sample150"
   ]
  },
  {
   "cell_type": "code",
   "execution_count": 32,
   "id": "e864e03c",
   "metadata": {},
   "outputs": [
    {
     "data": {
      "image/png": "[encoded data removed]",
      "text/plain": [
       "<Figure size 432x288 with 1 Axes>"
      ]
     },
     "metadata": {
      "needs_background": "light"
     },
     "output_type": "display_data"
    }
   ],
   "source": [
    "plt.hist(np.random.normal(loc=70, scale=mns_std, size=10000))\n",
    "plt.axvline(mean_sample150, color='red', linestyle='--');"
   ]
  },
  {
   "cell_type": "markdown",
   "id": "596b2cf8",
   "metadata": {},
   "source": [
    "__Conclusion:__ It seems unlikely that the sample we have is from the our hypothesis distribution (centering 70 with std 0.266). So we can reject our hypothesis, and in this case we can say we have evidence that the average height is less than 70."
   ]
  },
  {
   "cell_type": "markdown",
   "id": "258de98e",
   "metadata": {},
   "source": [
    "### Example: Comparing average height of coffee drinkers and non-coffee drinkers"
   ]
  },
  {
   "cell_type": "markdown",
   "id": "a3a707e6",
   "metadata": {},
   "source": [
    "`1.` If you were interested in studying whether the average height for coffee drinkers is the same as for non-coffee drinkers, what would the null and alternative hypotheses be?\n",
    "\n",
    "$$H_0: \\mu_{drinkers} - \\mu_{non-drinkers} =0$$\n",
    "\n",
    "$$H_0: \\mu_{drinkers} - \\mu_{non-drinkers} \\neq0$$\n",
    "\n",
    "In words,<br>\n",
    "\n",
    "**Null hypothesis:** The average height for all coffee drinkers is the same as rhe average height for all non-coffee drinkers.\n",
    "\n",
    "**Alternative hypothesis:** The average height for all coffee drinkers is not the same as the average height for all non-coffee drinkers."
   ]
  },
  {
   "cell_type": "markdown",
   "id": "e5f6391e",
   "metadata": {},
   "source": [
    "`2.` If you were interested in studying whether the average height for coffee drinkers is less than non-coffee drinkers, what would the null and alternative hypotheses be? \n",
    "\n",
    "$$H_0: \\mu_{drinkers} - \\mu_{non-drinkers} \\geq0$$\n",
    "\n",
    "$$H_0: \\mu_{drinkers} - \\mu_{non-drinkers} \\lt0$$\n",
    "\n",
    "In words,<br>\n",
    "\n",
    "**Null hypothesis:** The average height for all coffee drinkers is the same or greater than the average height for all non-coffee drinkers.\n",
    "\n",
    "**Alternative hypothesis:** The average height for all coffee drinkers is less than the average height for all non-coffee drinkers."
   ]
  },
  {
   "cell_type": "markdown",
   "id": "6ecf716e",
   "metadata": {},
   "source": [
    "`3.` For 10,000 iterations: bootstrap the sample data, calculate the mean height for coffee drinkers and non-coffee drinkers, and calculate the difference in means for each sample.  You will want to have three arrays at the end of the iterations - one for each mean and one for the difference in means."
   ]
  },
  {
   "cell_type": "code",
   "execution_count": 34,
   "id": "c9e09420",
   "metadata": {},
   "outputs": [
    {
     "data": {
      "text/plain": [
       "(200, 4)"
      ]
     },
     "execution_count": 34,
     "metadata": {},
     "output_type": "execute_result"
    }
   ],
   "source": [
    "np.random.seed(42)\n",
    "sample200 = df.sample(200)\n",
    "sample200.shape"
   ]
  },
  {
   "cell_type": "code",
   "execution_count": 37,
   "id": "a3455da5",
   "metadata": {},
   "outputs": [],
   "source": [
    "mns_Drinkers = []\n",
    "mns_NonDrinkers = []\n",
    "diffs = []\n",
    "\n",
    "for _ in range(10000):\n",
    "    bs_sample = sample200.sample(200, replace=True)\n",
    "    mn_Drinkers = bs_sample.query('drinks_coffee==True').height.mean()\n",
    "    mn_NonDrinkers = bs_sample.query('drinks_coffee==False').height.mean()\n",
    "    diff = mn_Drinkers - mn_NonDrinkers\n",
    "    \n",
    "    mns_Drinkers.append(mn_Drinkers)\n",
    "    mns_NonDrinkers.append(mn_NonDrinkers)\n",
    "    diffs.append(diff)"
   ]
  },
  {
   "cell_type": "code",
   "execution_count": 48,
   "id": "04e39465",
   "metadata": {},
   "outputs": [
    {
     "name": "stdout",
     "output_type": "stream",
     "text": [
      "The standard deviation of the sampling distribution for the mean of those that do not drink coffee is 0.41.\n",
      "The standard deviation of the sampling distribution for the mean of those that drink coffee is 0.24.\n",
      "The standard deviation of the sampling distribution for the difference in means of those that drink coffee and those that do not is 0.47.\n"
     ]
    }
   ],
   "source": [
    "std_drinkers = np.std(mns_NonDrinkers)\n",
    "std_NonDrinkers = np.std(mns_Drinkers)\n",
    "std_diffs = np.std(diffs)\n",
    "output_str = (\"The standard deviation of the sampling distribution for the \"\n",
    "              \"mean of those that do not drink coffee is {:.2f}.\\n\"\n",
    "              \"The standard deviation of the sampling distribution for the \"\n",
    "              \"mean of those that drink coffee is {:.2f}.\\n\"\n",
    "              \"The standard deviation of the sampling distribution for the \"\n",
    "              \"difference in means of those that drink coffee and those that do not is {:.2f}.\")\n",
    "\n",
    "print(output_str.format(std_drinkers, std_NonDrinkers, std_diffs))"
   ]
  },
  {
   "cell_type": "code",
   "execution_count": 41,
   "id": "580d3437",
   "metadata": {},
   "outputs": [
    {
     "data": {
      "image/png": "[encoded data removed]",
      "text/plain": [
       "<Figure size 432x288 with 1 Axes>"
      ]
     },
     "metadata": {
      "needs_background": "light"
     },
     "output_type": "display_data"
    }
   ],
   "source": [
    "# Average Height Distribution for the coffee drinkers\n",
    "plt.hist(mns_Drinkers);"
   ]
  },
  {
   "cell_type": "code",
   "execution_count": 43,
   "id": "d6df1ddb",
   "metadata": {},
   "outputs": [
    {
     "data": {
      "image/png": "[encoded data removed]",
      "text/plain": [
       "<Figure size 432x288 with 1 Axes>"
      ]
     },
     "metadata": {
      "needs_background": "light"
     },
     "output_type": "display_data"
    }
   ],
   "source": [
    "# Average Height Distribution for the non-coffee drinkers\n",
    "plt.hist(mns_NonDrinkers);"
   ]
  },
  {
   "cell_type": "code",
   "execution_count": 44,
   "id": "2c023208",
   "metadata": {},
   "outputs": [
    {
     "data": {
      "image/png": "[encoded data removed]",
      "text/plain": [
       "<Figure size 432x288 with 1 Axes>"
      ]
     },
     "metadata": {
      "needs_background": "light"
     },
     "output_type": "display_data"
    }
   ],
   "source": [
    "# Differences in Avgerage Height Distribution between coffee drinkers and non-coffee drinkers\n",
    "plt.hist(diffs);"
   ]
  },
  {
   "cell_type": "markdown",
   "id": "d7271c28",
   "metadata": {},
   "source": [
    "**According to the central limit theorem, we can see all the distributions above are normal distribution.**"
   ]
  },
  {
   "cell_type": "markdown",
   "id": "74c7dcd2",
   "metadata": {},
   "source": [
    "`4.` Now, use your observed sampling distribution for the difference in means and [the docs](https://numpy.org/doc/stable/reference/random/generated/numpy.random.normal.html) to simulate what you would expect the sampling distribution to be if the null hypothesis is true. You can do this be recentering your distribution at zero. Also, calculate the observed sample mean difference in `sample_data`. "
   ]
  },
  {
   "cell_type": "code",
   "execution_count": 50,
   "id": "a5b5e816",
   "metadata": {},
   "outputs": [
    {
     "data": {
      "image/png": "[encoded data removed]",
      "text/plain": [
       "<Figure size 432x288 with 1 Axes>"
      ]
     },
     "metadata": {
      "needs_background": "light"
     },
     "output_type": "display_data"
    }
   ],
   "source": [
    "plt.hist(mns_Drinkers, alpha=.5)\n",
    "plt.hist(mns_NonDrinkers, alpha=.5);"
   ]
  },
  {
   "cell_type": "code",
   "execution_count": 51,
   "id": "fad70026",
   "metadata": {},
   "outputs": [
    {
     "data": {
      "text/plain": [
       "0.4697817405631586"
      ]
     },
     "execution_count": 51,
     "metadata": {},
     "output_type": "execute_result"
    }
   ],
   "source": [
    "np.std(diffs)"
   ]
  },
  {
   "cell_type": "code",
   "execution_count": 54,
   "id": "ec0fc3e0",
   "metadata": {},
   "outputs": [
    {
     "data": {
      "image/png": "[encoded data removed]",
      "text/plain": [
       "<Figure size 432x288 with 1 Axes>"
      ]
     },
     "metadata": {
      "needs_background": "light"
     },
     "output_type": "display_data"
    }
   ],
   "source": [
    "plt.hist(np.random.normal(0, np.std(diffs), 10000));"
   ]
  },
  {
   "cell_type": "code",
   "execution_count": 59,
   "id": "adb5c2e1",
   "metadata": {},
   "outputs": [
    {
     "data": {
      "image/png": "[encoded data removed]",
      "text/plain": [
       "<Figure size 432x288 with 1 Axes>"
      ]
     },
     "metadata": {
      "needs_background": "light"
     },
     "output_type": "display_data"
    }
   ],
   "source": [
    "obs_Drinkers = sample200.query('drinks_coffee==True').height.mean()\n",
    "obs_NonDrinkers = sample200.query('drinks_coffee==False').height.mean()\n",
    "obs_diff = obs_Drinkers - obs_NonDrinkers\n",
    "plt.hist(np.random.normal(0, np.std(diffs), 10000))\n",
    "plt.axvline(obs_diff, color='r', linestyle='--');"
   ]
  },
  {
   "cell_type": "markdown",
   "id": "7f1f917d",
   "metadata": {},
   "source": [
    "**Conclusion:** \n",
    "1. We can expect the standard deviation of the sampling distribution for differences from the null to be essentially the same as what we observed from the data.\n",
    "2. If the null hypothesis is true, we would expect the difference in means of coffee drinkers and non-drinkers to be zero."
   ]
  },
  {
   "cell_type": "markdown",
   "id": "0ecd73b0",
   "metadata": {},
   "source": [
    "## Calculating P-Value\n",
    "\n",
    "**Step 1:** Simulate the values of your statistic that are possible from the null.<br>\n",
    "**Step 2:** Calculate the value of the statistic you actually obtained in your data.<br>\n",
    "**Step 3:** Compare your statistic to the values from the null.<br>\n",
    "**Step 4:** Calculate the proportion of null values that are considered extreme based on your alternative."
   ]
  },
  {
   "cell_type": "markdown",
   "id": "938a6afa",
   "metadata": {},
   "source": [
    "### Example"
   ]
  },
  {
   "cell_type": "code",
   "execution_count": 83,
   "id": "6338b654",
   "metadata": {},
   "outputs": [],
   "source": [
    "np.random.seed(42)\n",
    "df = pd.read_csv('coffee_dataset.csv')\n",
    "sample_df = df.sample(150)"
   ]
  },
  {
   "cell_type": "code",
   "execution_count": 84,
   "id": "b3dfd9b7",
   "metadata": {},
   "outputs": [],
   "source": [
    "means = []\n",
    "\n",
    "for _ in range(10000):\n",
    "    # Create bootstrap sample\n",
    "    bs_sample = sample_df.sample(150, replace=True)\n",
    "    \n",
    "    # Store mean height from each bootstrap sample in list of `means`\n",
    "    means.append(bs_sample.height.mean())"
   ]
  },
  {
   "cell_type": "code",
   "execution_count": 85,
   "id": "5a12e7a5",
   "metadata": {},
   "outputs": [
    {
     "data": {
      "image/png": "[encoded data removed]",
      "text/plain": [
       "<Figure size 432x288 with 1 Axes>"
      ]
     },
     "metadata": {
      "needs_background": "light"
     },
     "output_type": "display_data"
    }
   ],
   "source": [
    "# Use the std of the means above to simulate distribution from null hypothesis\n",
    "null_values = np.random.normal(70, np.std(means), 10000)\n",
    "\n",
    "plt.hist(null_values);"
   ]
  },
  {
   "cell_type": "code",
   "execution_count": 86,
   "id": "4c817e2c",
   "metadata": {},
   "outputs": [
    {
     "data": {
      "image/png": "[encoded data removed]",
      "text/plain": [
       "<Figure size 432x288 with 1 Axes>"
      ]
     },
     "metadata": {
      "needs_background": "light"
     },
     "output_type": "display_data"
    }
   ],
   "source": [
    "# Plot the mean height of the observed data in the histogram\n",
    "sample_mean = sample_df.height.mean()\n",
    "plt.hist(null_values)\n",
    "plt.axvline(sample_mean, color='red', linestyle='--');"
   ]
  },
  {
   "cell_type": "markdown",
   "id": "35b9ac7a",
   "metadata": {},
   "source": [
    "___Scenario 1:___\n",
    "\n",
    "$H_0: \\mu \\leq 70$\n",
    "\n",
    "$H_1: \\mu > 70$"
   ]
  },
  {
   "cell_type": "code",
   "execution_count": 87,
   "id": "d476386b",
   "metadata": {},
   "outputs": [
    {
     "data": {
      "text/plain": [
       "1.0"
      ]
     },
     "execution_count": 87,
     "metadata": {},
     "output_type": "execute_result"
    }
   ],
   "source": [
    "# Calculate the P-value\n",
    "(null_values > sample_mean).mean()"
   ]
  },
  {
   "cell_type": "markdown",
   "id": "0004ce64",
   "metadata": {},
   "source": [
    "**So we do not have sufficient evidence to reject the null hypothesis. In other words, we fail to reject the null. Namely the average height is no greater than 70.**"
   ]
  },
  {
   "cell_type": "markdown",
   "id": "e1fa6317",
   "metadata": {},
   "source": [
    "___Scenario 2:___\n",
    "\n",
    "$H_0: \\mu \\geq 70$\n",
    "\n",
    "$H_1: \\mu < 70$"
   ]
  },
  {
   "cell_type": "code",
   "execution_count": 88,
   "id": "573248a0",
   "metadata": {},
   "outputs": [
    {
     "data": {
      "text/plain": [
       "0.0"
      ]
     },
     "execution_count": 88,
     "metadata": {},
     "output_type": "execute_result"
    }
   ],
   "source": [
    "(null_values < sample_mean).mean()"
   ]
  },
  {
   "cell_type": "markdown",
   "id": "b42eeaaa",
   "metadata": {},
   "source": [
    "**We have evidence to reject the null and choose the alternative, namely the average height is less than 70.**"
   ]
  },
  {
   "cell_type": "markdown",
   "id": "84246a4f",
   "metadata": {},
   "source": [
    "___Scenario 3:___\n",
    "\n",
    "$H_0: \\mu = 70$\n",
    "\n",
    "$H_1: \\mu \\neq 70$"
   ]
  },
  {
   "cell_type": "code",
   "execution_count": 89,
   "id": "696f25a3",
   "metadata": {},
   "outputs": [
    {
     "data": {
      "text/plain": [
       "0.0"
      ]
     },
     "execution_count": 89,
     "metadata": {},
     "output_type": "execute_result"
    }
   ],
   "source": [
    "null_mean = 70\n",
    "(null_values < sample_mean).mean() + (null_values > (null_mean + (null_mean - sample_mean))).mean()"
   ]
  },
  {
   "cell_type": "markdown",
   "id": "93810638",
   "metadata": {},
   "source": [
    "**We have evidence to reject the null and choose its alternative hypothesis, namely the average height is not equal to 70.**"
   ]
  },
  {
   "cell_type": "markdown",
   "id": "e0bd19dd",
   "metadata": {},
   "source": [
    "### Example: Calculating Type I and Type II Errors\n",
    "\n",
    "Two datasets will be bused for this examples.  \n",
    "\n",
    "One dataset is based on the parachute example, and the second is based on the judicial example.  Neither of these datasets is based on real people.\n"
   ]
  },
  {
   "cell_type": "code",
   "execution_count": 95,
   "id": "b456bde9",
   "metadata": {},
   "outputs": [],
   "source": [
    "jud_data = pd.read_csv('judicial_dataset_predictions.csv')\n",
    "par_data = pd.read_csv('parachute_dataset.csv')\n"
   ]
  },
  {
   "cell_type": "code",
   "execution_count": 96,
   "id": "b2adc1bc",
   "metadata": {},
   "outputs": [
    {
     "data": {
      "text/html": [
       "<div>\n",
       "<style scoped>\n",
       "    .dataframe tbody tr th:only-of-type {\n",
       "        vertical-align: middle;\n",
       "    }\n",
       "\n",
       "    .dataframe tbody tr th {\n",
       "        vertical-align: top;\n",
       "    }\n",
       "\n",
       "    .dataframe thead th {\n",
       "        text-align: right;\n",
       "    }\n",
       "</style>\n",
       "<table border=\"1\" class=\"dataframe\">\n",
       "  <thead>\n",
       "    <tr style=\"text-align: right;\">\n",
       "      <th></th>\n",
       "      <th>defendant_id</th>\n",
       "      <th>actual</th>\n",
       "      <th>predicted</th>\n",
       "    </tr>\n",
       "  </thead>\n",
       "  <tbody>\n",
       "    <tr>\n",
       "      <th>0</th>\n",
       "      <td>22574</td>\n",
       "      <td>innocent</td>\n",
       "      <td>innocent</td>\n",
       "    </tr>\n",
       "    <tr>\n",
       "      <th>1</th>\n",
       "      <td>35637</td>\n",
       "      <td>innocent</td>\n",
       "      <td>innocent</td>\n",
       "    </tr>\n",
       "    <tr>\n",
       "      <th>2</th>\n",
       "      <td>39919</td>\n",
       "      <td>innocent</td>\n",
       "      <td>innocent</td>\n",
       "    </tr>\n",
       "    <tr>\n",
       "      <th>3</th>\n",
       "      <td>29610</td>\n",
       "      <td>guilty</td>\n",
       "      <td>guilty</td>\n",
       "    </tr>\n",
       "    <tr>\n",
       "      <th>4</th>\n",
       "      <td>38273</td>\n",
       "      <td>innocent</td>\n",
       "      <td>innocent</td>\n",
       "    </tr>\n",
       "  </tbody>\n",
       "</table>\n",
       "</div>"
      ],
      "text/plain": [
       "   defendant_id    actual predicted\n",
       "0         22574  innocent  innocent\n",
       "1         35637  innocent  innocent\n",
       "2         39919  innocent  innocent\n",
       "3         29610    guilty    guilty\n",
       "4         38273  innocent  innocent"
      ]
     },
     "execution_count": 96,
     "metadata": {},
     "output_type": "execute_result"
    }
   ],
   "source": [
    "jud_data.head()"
   ]
  },
  {
   "cell_type": "code",
   "execution_count": 97,
   "id": "a234b4d8",
   "metadata": {},
   "outputs": [
    {
     "data": {
      "text/html": [
       "<div>\n",
       "<style scoped>\n",
       "    .dataframe tbody tr th:only-of-type {\n",
       "        vertical-align: middle;\n",
       "    }\n",
       "\n",
       "    .dataframe tbody tr th {\n",
       "        vertical-align: top;\n",
       "    }\n",
       "\n",
       "    .dataframe thead th {\n",
       "        text-align: right;\n",
       "    }\n",
       "</style>\n",
       "<table border=\"1\" class=\"dataframe\">\n",
       "  <thead>\n",
       "    <tr style=\"text-align: right;\">\n",
       "      <th></th>\n",
       "      <th>parachute_id</th>\n",
       "      <th>actual</th>\n",
       "      <th>predicted</th>\n",
       "    </tr>\n",
       "  </thead>\n",
       "  <tbody>\n",
       "    <tr>\n",
       "      <th>0</th>\n",
       "      <td>3956</td>\n",
       "      <td>opens</td>\n",
       "      <td>opens</td>\n",
       "    </tr>\n",
       "    <tr>\n",
       "      <th>1</th>\n",
       "      <td>2147</td>\n",
       "      <td>opens</td>\n",
       "      <td>opens</td>\n",
       "    </tr>\n",
       "    <tr>\n",
       "      <th>2</th>\n",
       "      <td>2024</td>\n",
       "      <td>opens</td>\n",
       "      <td>opens</td>\n",
       "    </tr>\n",
       "    <tr>\n",
       "      <th>3</th>\n",
       "      <td>8325</td>\n",
       "      <td>opens</td>\n",
       "      <td>opens</td>\n",
       "    </tr>\n",
       "    <tr>\n",
       "      <th>4</th>\n",
       "      <td>6598</td>\n",
       "      <td>opens</td>\n",
       "      <td>opens</td>\n",
       "    </tr>\n",
       "  </tbody>\n",
       "</table>\n",
       "</div>"
      ],
      "text/plain": [
       "   parachute_id actual predicted\n",
       "0          3956  opens     opens\n",
       "1          2147  opens     opens\n",
       "2          2024  opens     opens\n",
       "3          8325  opens     opens\n",
       "4          6598  opens     opens"
      ]
     },
     "execution_count": 97,
     "metadata": {},
     "output_type": "execute_result"
    }
   ],
   "source": [
    "par_data.head()"
   ]
  },
  {
   "cell_type": "code",
   "execution_count": 110,
   "id": "bafbafce",
   "metadata": {},
   "outputs": [
    {
     "data": {
      "text/plain": [
       "array(['opens', 'fails'], dtype=object)"
      ]
     },
     "execution_count": 110,
     "metadata": {},
     "output_type": "execute_result"
    }
   ],
   "source": [
    "par_data.actual.unique()"
   ]
  },
  {
   "cell_type": "markdown",
   "id": "4c3ad3c7",
   "metadata": {},
   "source": [
    "`1.` Above, you can see the actual and predicted columns for each of the datasets.  Using the **jud_data**, find the proportion of errors for the dataset, and furthermore, the percentage of errors of each type.\n",
    "\n",
    "___Null Hypothesis:___ **`innocent`**<br>\n",
    "___Alternative Hypothesis:___ **`guilty`**\n",
    "\n",
    "The following questions have been explored:\n",
    "- Total error percentage?\n",
    "- Type I error percentage?\n",
    "- Type II error percentage?\n",
    "- If all are predicted as `guilty`, the type I error percentage would be commited?\n",
    "- If all are predicted as `guilty`, the type II error percentage would be commited?\n",
    "- If all are predicted as `innocent`, the type I error percentage would be commited?\n",
    "- If all are predicted as `innocent`, the type II error percentage would be commited?"
   ]
  },
  {
   "cell_type": "code",
   "execution_count": 109,
   "id": "2c0a3cfa",
   "metadata": {},
   "outputs": [
    {
     "name": "stdout",
     "output_type": "stream",
     "text": [
      "Total error percentage is: 4.22%\n",
      "Type I error percentage is: 0.15%\n",
      "Type II error percentage is: 4.06%\n",
      "Type I error percentage committed given all are predicted as guilty: 45.16%\n",
      "Type II error percentage committed given all are predicted as guilty: 0\n",
      "Type I error percentage committed given all are predicted as innocent: 0\n",
      "Type II error percentage committed given all are predicted as innocent: 54.84%\n"
     ]
    }
   ],
   "source": [
    "# Total records\n",
    "num_records = jud_data.shape[0]\n",
    "\n",
    "# Total percentage of errors\n",
    "num_errors = (jud_data.actual != jud_data.predicted).sum()\n",
    "\n",
    "# Total error percentage\n",
    "errors_pct = num_errors/num_records\n",
    "print(\"Total error percentage is: {:.2%}\".format(errors_pct))\n",
    "\n",
    "#*****Type I Error****\n",
    "# Calculate number of Type I Error\n",
    "num_typeI = ((jud_data.actual=='innocent') & (jud_data.predicted=='guilty')).sum()\n",
    "\n",
    "# Calculate percentage of Type I Error\n",
    "pct_typeI = num_typeI/num_records\n",
    "print(\"Type I error percentage is: {:.2%}\".format(pct_typeI))\n",
    "\n",
    "\n",
    "#*****Type II Error****\n",
    "# Calculate number of Type II Error\n",
    "num_typeII = ((jud_data.actual=='guilty') & (jud_data.predicted=='innocent')).sum()\n",
    "\n",
    "# Calculate percentage of Type II Error\n",
    "pct_typeII = num_typeII/num_records\n",
    "print(\"Type II error percentage is: {:.2%}\".format(pct_typeII))\n",
    "\n",
    "#\n",
    "# If everyone was predicted to be `guilty`, \n",
    "# the percentage of Type I Errors made.\n",
    "inno_pct = (jud_data.actual=='innocent').sum()/num_records\n",
    "print(\"Type I error percentage committed given all are predicted as guilty: {:.2%}\".format(inno_pct))\n",
    "\n",
    "# If everyone was predicted to be `guilty`, \n",
    "# the proportion of Type II Errors made will be 0.\n",
    "print(\"Type II error percentage committed given all are predicted as guilty: {}\".format(0))\n",
    "\n",
    "# If everyone was predicted to be `innocent`, \n",
    "# the proportion of Type I Errors made will be 0.\n",
    "print(\"Type I error percentage committed given all are predicted as innocent: {}\".format(0))\n",
    "\n",
    "# If everyone was predicted to be `innocent`, \n",
    "# the percentage of Type I Errors made.\n",
    "guilty_pct = (jud_data.actual=='guilty').sum()/num_records\n",
    "print(\"Type II error percentage committed given all are predicted as innocent: {:.2%}\".format(guilty_pct))\n"
   ]
  },
  {
   "cell_type": "markdown",
   "id": "dd52db80",
   "metadata": {},
   "source": [
    "`2.` Using the **par_data**, find the proportion of errors for the dataset, and furthermore, the percentage of errors of each type.\n",
    "\n",
    "___Null Hypothesis:___ **`fails`**<br>\n",
    "___Alternative Hypothesis:___ **`opens`**\n",
    "\n",
    "The following questions have been explored:\n",
    "- Total error percentage?\n",
    "- Type I error percentage?\n",
    "- Type II error percentage?\n",
    "- If all are predicted as `fails`, the type I error percentage would be commited?\n",
    "- If all are predicted as `fails`, the type II error percentage would be commited?\n",
    "- If all are predicted as `opens`, the type I error percentage would be commited?\n",
    "- If all are predicted as `opens`, the type II error percentage would be commited?"
   ]
  },
  {
   "cell_type": "code",
   "execution_count": 118,
   "id": "afeef503",
   "metadata": {},
   "outputs": [
    {
     "name": "stdout",
     "output_type": "stream",
     "text": [
      "Total error percentage is: 0.039972551037913875\n",
      "Type I error percentage is: 0.00017155601303825698\n",
      "Type II error percentage is: 0.03980099502487562\n",
      "\n",
      "Type I error percentage committed given all are predicted as opens: 0.008234688625836336\n",
      "Type II error percentage committed given all are predicted as opens: 0\n",
      "\n",
      "Type I error percentage committed given all are predicted as fails: 0\n",
      "Type II error percentage committed given all are predicted as fails: 0.9917653113741637\n"
     ]
    }
   ],
   "source": [
    "# Total records\n",
    "num_records = par_data.shape[0]\n",
    "\n",
    "# Total percentage of errors\n",
    "num_errors = (par_data.actual != par_data.predicted).sum()\n",
    "\n",
    "# Total error percentage\n",
    "errors_pct = num_errors/num_records\n",
    "print(\"Total error percentage is: {}\".format(errors_pct))\n",
    "\n",
    "#*****Type I Error****\n",
    "# Calculate number of Type I Error\n",
    "num_typeI = ((par_data.actual=='fails') & (par_data.predicted=='opens')).sum()\n",
    "\n",
    "# Calculate percentage of Type I Error\n",
    "pct_typeI = num_typeI/num_records\n",
    "print(\"Type I error percentage is: {}\".format(pct_typeI))\n",
    "\n",
    "\n",
    "#*****Type II Error****\n",
    "# Calculate number of Type II Error\n",
    "num_typeII = ((par_data.actual=='opens') & (par_data.predicted=='fails')).sum()\n",
    "\n",
    "# Calculate percentage of Type II Error\n",
    "pct_typeII = num_typeII/num_records\n",
    "print(\"Type II error percentage is: {}\\n\".format(pct_typeII))\n",
    "\n",
    "#\n",
    "# If everyone was predicted to be `opens`, \n",
    "# the percentage of Type I Errors made.\n",
    "typeI_pct = (par_data.actual=='fails').sum()/num_records\n",
    "print(\"Type I error percentage committed given all are predicted as opens: {}\".format(typeI_pct))\n",
    "\n",
    "# If everyone was predicted to be `opens`, \n",
    "# the proportion of Type II Errors made will be 0.\n",
    "print(\"Type II error percentage committed given all are predicted as opens: {}\\n\".format(0))\n",
    "\n",
    "# If everyone was predicted to be `fails`, \n",
    "# the proportion of Type I Errors made will be 0.\n",
    "print(\"Type I error percentage committed given all are predicted as fails: {}\".format(0))\n",
    "\n",
    "# If everyone was predicted to be `fails`, \n",
    "# the percentage of Type I Errors made.\n",
    "typeII_pct = (par_data.actual=='opens').sum()/num_records\n",
    "print(\"Type II error percentage committed given all are predicted as fails: {}\".format(typeII_pct))\n"
   ]
  },
  {
   "cell_type": "code",
   "execution_count": null,
   "id": "f3c52d8a",
   "metadata": {},
   "outputs": [],
   "source": []
  },
  {
   "cell_type": "code",
   "execution_count": null,
   "id": "080f8b43",
   "metadata": {},
   "outputs": [],
   "source": []
  },
  {
   "cell_type": "code",
   "execution_count": null,
   "id": "09ff74d6",
   "metadata": {},
   "outputs": [],
   "source": []
  }
 ],
 "metadata": {
  "kernelspec": {
   "display_name": "Python 3",
   "language": "python",
   "name": "python3"
  },
  "language_info": {
   "codemirror_mode": {
    "name": "ipython",
    "version": 3
   },
   "file_extension": ".py",
   "mimetype": "text/x-python",
   "name": "python",
   "nbconvert_exporter": "python",
   "pygments_lexer": "ipython3",
   "version": "3.7.9"
  },
  "toc": {
   "base_numbering": 1,
   "nav_menu": {},
   "number_sections": false,
   "sideBar": true,
   "skip_h1_title": false,
   "title_cell": "Table of Contents",
   "title_sidebar": "Contents",
   "toc_cell": false,
   "toc_position": {},
   "toc_section_display": true,
   "toc_window_display": false
  }
 },
 "nbformat": 4,
 "nbformat_minor": 5
}
