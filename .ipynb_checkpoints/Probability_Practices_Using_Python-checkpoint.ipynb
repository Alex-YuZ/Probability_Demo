{
 "cells": [
  {
   "cell_type": "markdown",
   "metadata": {},
   "source": [
    "# Probability Practices in Python"
   ]
  },
  {
   "cell_type": "markdown",
   "metadata": {},
   "source": [
    "### Table of Contents\n",
    "\n",
    "- [Simulating Coins Flipping Using `np.random.randint` and `np.random.choice()`](#simCoinFlip)\n",
    "- [Coin Flips and Die Rolls](#CoinFlips&DieRolls)\n",
    "- [Simulating Many Coin Flips](#Sim_Many_CoinFlips)\n",
    "- [Binomial Distribution Simulation Using `np.random.binomial()`](#binomial_distribution)\n",
    "- [Cancer Test Results](#cancer_test)\n",
    "- [Conditional Probability & Bayes Rule](#conditional_probability&bayes_rules)"
   ]
  },
  {
   "cell_type": "code",
   "execution_count": 1,
   "metadata": {},
   "outputs": [],
   "source": [
    "import os\n",
    "os.chdir(\"projects_on_GitHub/POC/python_probability_practices\")"
   ]
  },
  {
   "cell_type": "code",
   "execution_count": 2,
   "metadata": {},
   "outputs": [
    {
     "name": "stdout",
     "output_type": "stream",
     "text": [
      "Probability_Practices_Using_Python.ipynb\r\n",
      "cancer_test_data.csv\r\n"
     ]
    }
   ],
   "source": [
    "ls"
   ]
  },
  {
   "cell_type": "markdown",
   "metadata": {},
   "source": [
    "<a id=simCoinFlip></a>\n",
    "## Simulating Coins Flipping Using `np.random.randint` and `np.random.choice()`"
   ]
  },
  {
   "cell_type": "code",
   "execution_count": 3,
   "metadata": {},
   "outputs": [
    {
     "data": {
      "text/plain": [
       "0"
      ]
     },
     "execution_count": 3,
     "metadata": {},
     "output_type": "execute_result"
    }
   ],
   "source": [
    "# outcome of one coin flip\n",
    "np.random.randint(2)"
   ]
  },
  {
   "cell_type": "code",
   "execution_count": 4,
   "metadata": {},
   "outputs": [
    {
     "data": {
      "text/plain": [
       "array([1, 1, 1, ..., 0, 0, 0])"
      ]
     },
     "execution_count": 4,
     "metadata": {},
     "output_type": "execute_result"
    }
   ],
   "source": [
    "# outcomes of ten thousand coin flips\n",
    "np.random.randint(2, size=10000)"
   ]
  },
  {
   "cell_type": "code",
   "execution_count": 5,
   "metadata": {},
   "outputs": [
    {
     "data": {
      "text/plain": [
       "0.5046"
      ]
     },
     "execution_count": 5,
     "metadata": {},
     "output_type": "execute_result"
    }
   ],
   "source": [
    "# mean outcome of ten thousand coin flips\n",
    "np.random.randint(2, size=10000).mean()"
   ]
  },
  {
   "cell_type": "code",
   "execution_count": 6,
   "metadata": {},
   "outputs": [
    {
     "data": {
      "text/plain": [
       "1"
      ]
     },
     "execution_count": 6,
     "metadata": {},
     "output_type": "execute_result"
    }
   ],
   "source": [
    "# outcome of one coin flip\n",
    "np.random.choice([0, 1])"
   ]
  },
  {
   "cell_type": "code",
   "execution_count": 7,
   "metadata": {},
   "outputs": [
    {
     "data": {
      "text/plain": [
       "array([1, 1, 0, ..., 1, 0, 1])"
      ]
     },
     "execution_count": 7,
     "metadata": {},
     "output_type": "execute_result"
    }
   ],
   "source": [
    "# outcome of ten thousand coin flips\n",
    "np.random.choice([0, 1], size=10000)"
   ]
  },
  {
   "cell_type": "code",
   "execution_count": 8,
   "metadata": {},
   "outputs": [
    {
     "data": {
      "text/plain": [
       "0.4974"
      ]
     },
     "execution_count": 8,
     "metadata": {},
     "output_type": "execute_result"
    }
   ],
   "source": [
    "# mean outcome of ten thousand coin flips\n",
    "np.random.choice([0, 1], size=10000).mean()"
   ]
  },
  {
   "cell_type": "code",
   "execution_count": 9,
   "metadata": {},
   "outputs": [
    {
     "data": {
      "text/plain": [
       "array([0, 0, 0, ..., 0, 0, 1])"
      ]
     },
     "execution_count": 9,
     "metadata": {},
     "output_type": "execute_result"
    }
   ],
   "source": [
    "# outcomes of ten thousand biased coin flips\n",
    "np.random.choice([0, 1], size=10000, p=[0.8, 0.2])"
   ]
  },
  {
   "cell_type": "code",
   "execution_count": 10,
   "metadata": {},
   "outputs": [
    {
     "data": {
      "text/plain": [
       "0.1953"
      ]
     },
     "execution_count": 10,
     "metadata": {},
     "output_type": "execute_result"
    }
   ],
   "source": [
    "# mean outcome of ten thousand biased coin flips\n",
    "np.random.choice([0, 1], size=10000, p=[0.8, 0.2]).mean()"
   ]
  },
  {
   "cell_type": "markdown",
   "metadata": {},
   "source": [
    "<a id=CoinFlips&DieRolls></a>\n",
    "## Coin Flips and Die Rolls\n",
    "\n",
    "### Tasks\n",
    "- Two fair coin flips produce exactly two heads\n",
    "- Three fair coin flips produce exactly one head\n",
    "- Three biased coin flips with P(H) = 0.6 produce exactly one head\n",
    "- A die rolls an even number\n",
    "- Two dice roll a double"
   ]
  },
  {
   "cell_type": "markdown",
   "metadata": {},
   "source": [
    "<font color='blue'>\n",
    "The Binomial Distribution Formula is as follows:<br>\n",
    "\n",
    "$$\n",
    "C_n^kp^{n}(1-p)^{n-k}\n",
    "$$\n",
    "\n",
    "Apply them in the following python codes:\n",
    "</font>\n",
    "\n"
   ]
  },
  {
   "cell_type": "code",
   "execution_count": 11,
   "metadata": {},
   "outputs": [],
   "source": [
    "def factorial(n):\n",
    "    if n <= 1:\n",
    "        return 1\n",
    "    else:\n",
    "        return n * factorial(n-1)\n",
    "\n",
    "def combination(n, k):\n",
    "    return factorial(n)/(factorial(k)*factorial(n-k))\n",
    "\n",
    "def binomial(n, k, p):\n",
    "    return combination(n, k) * p ** k * (1-p) ** (n-k)"
   ]
  },
  {
   "cell_type": "markdown",
   "metadata": {},
   "source": [
    "We can validate the results using `np.random` against the mathematical solution using binomial formula."
   ]
  },
  {
   "cell_type": "markdown",
   "metadata": {},
   "source": [
    "### 1. Two fair coin flips produce exactly two heads"
   ]
  },
  {
   "cell_type": "code",
   "execution_count": 12,
   "metadata": {},
   "outputs": [
    {
     "name": "stdout",
     "output_type": "stream",
     "text": [
      "The first 5 simulation results: [[1 1]\n",
      " [1 1]\n",
      " [0 0]\n",
      " [0 1]\n",
      " [0 1]]\n",
      "The first 5 summation: [2 2 0 1 1]\n",
      "The proportion of tests that produced exactly two heads is : 0.250727\n"
     ]
    }
   ],
   "source": [
    "# simulate 1 million tests of two fair coin flips\n",
    "tests = np.random.randint(2, size=(int(1e6), 2))\n",
    "print(\"The first 5 simulation results: {}\".format(tests[:5]))\n",
    "\n",
    "# sums of all tests\n",
    "test_sums = tests.sum(axis=1)\n",
    "print(\"The first 5 summation: {}\".format(test_sums[:5]))\n",
    "\n",
    "# proportion of tests that produced exactly two heads\n",
    "prop_result = (test_sums == 0).mean()\n",
    "print(\"The proportion of tests that produced exactly two heads is : {}\".format(prop_result))"
   ]
  },
  {
   "cell_type": "markdown",
   "metadata": {},
   "source": [
    "**Mathematical Solution:**"
   ]
  },
  {
   "cell_type": "code",
   "execution_count": 13,
   "metadata": {},
   "outputs": [
    {
     "data": {
      "text/plain": [
       "0.25"
      ]
     },
     "execution_count": 13,
     "metadata": {},
     "output_type": "execute_result"
    }
   ],
   "source": [
    "binomial(2, 2, .5)"
   ]
  },
  {
   "cell_type": "markdown",
   "metadata": {},
   "source": [
    "### 2. Three fair coin flips produce exactly one head"
   ]
  },
  {
   "cell_type": "code",
   "execution_count": 14,
   "metadata": {},
   "outputs": [
    {
     "data": {
      "text/plain": [
       "0.374936"
      ]
     },
     "execution_count": 14,
     "metadata": {},
     "output_type": "execute_result"
    }
   ],
   "source": [
    "# simulate 1 million tests of three fair coin flips\n",
    "tests = np.random.choice([0, 1], size=(int(1e6), 3))\n",
    "\n",
    "# sums of all tests\n",
    "tests_sum = tests.sum(axis=1)\n",
    "\n",
    "# proportion of tests that produced exactly one head\n",
    "(tests_sum == 2).mean()"
   ]
  },
  {
   "cell_type": "markdown",
   "metadata": {},
   "source": [
    "**Mathematical Solution:**"
   ]
  },
  {
   "cell_type": "code",
   "execution_count": 15,
   "metadata": {},
   "outputs": [
    {
     "data": {
      "text/plain": [
       "0.375"
      ]
     },
     "execution_count": 15,
     "metadata": {},
     "output_type": "execute_result"
    }
   ],
   "source": [
    "binomial(3, 1, .5)"
   ]
  },
  {
   "cell_type": "markdown",
   "metadata": {},
   "source": [
    "### 3. Three biased coin flips with P(H) = 0.6 produce exactly one head"
   ]
  },
  {
   "cell_type": "code",
   "execution_count": 16,
   "metadata": {},
   "outputs": [
    {
     "data": {
      "text/plain": [
       "0.287542"
      ]
     },
     "execution_count": 16,
     "metadata": {},
     "output_type": "execute_result"
    }
   ],
   "source": [
    "# simulate 1 million tests of three biased coin flips\n",
    "tests = np.random.choice([0, 1], size=(int(1e6), 3), p=[.6, .4])\n",
    "\n",
    "# sums of all tests\n",
    "test_sums = tests.sum(axis=1)\n",
    "\n",
    "# proportion of tests that produced exactly one head\n",
    "(test_sums == 2).mean()"
   ]
  },
  {
   "cell_type": "markdown",
   "metadata": {},
   "source": [
    "**Mathematical Solution:**"
   ]
  },
  {
   "cell_type": "code",
   "execution_count": 17,
   "metadata": {},
   "outputs": [
    {
     "data": {
      "text/plain": [
       "0.28800000000000003"
      ]
     },
     "execution_count": 17,
     "metadata": {},
     "output_type": "execute_result"
    }
   ],
   "source": [
    "binomial(3, 1, .6)"
   ]
  },
  {
   "cell_type": "markdown",
   "metadata": {},
   "source": [
    "<font color='red'><b><i>NOTICE: However we have built-in `np.random.binomial()` function.</i></b></font>"
   ]
  },
  {
   "cell_type": "markdown",
   "metadata": {},
   "source": [
    "### 4. A die rolls an even number"
   ]
  },
  {
   "cell_type": "code",
   "execution_count": 18,
   "metadata": {},
   "outputs": [
    {
     "data": {
      "text/plain": [
       "0.500809"
      ]
     },
     "execution_count": 18,
     "metadata": {},
     "output_type": "execute_result"
    }
   ],
   "source": [
    "# simulate 1 million tests of one die roll\n",
    "tests = np.random.choice(range(1, 7), size=int(1e6))\n",
    "\n",
    "# proportion of tests that produced an even number\n",
    "(tests % 2 == 0).mean()"
   ]
  },
  {
   "cell_type": "markdown",
   "metadata": {},
   "source": [
    "### 5. Two dice roll a double"
   ]
  },
  {
   "cell_type": "code",
   "execution_count": 19,
   "metadata": {},
   "outputs": [
    {
     "data": {
      "text/plain": [
       "0.166107"
      ]
     },
     "execution_count": 19,
     "metadata": {},
     "output_type": "execute_result"
    }
   ],
   "source": [
    "# simulate the first million die rolls\n",
    "# first = np.random.choice(range(1, 7), size=(int(1e6), 2))\n",
    "first = np.random.choice(range(1, 7), size=int(1e6))\n",
    "\n",
    "# simulate the second million die rolls\n",
    "second = np.random.choice(range(1, 7), size=int(1e6))\n",
    "\n",
    "# proportion of tests where the 1st and 2nd die rolled the same number\n",
    "(first == second).mean()"
   ]
  },
  {
   "cell_type": "markdown",
   "metadata": {},
   "source": [
    "<a id='Sim_Many_CoinFlips'></a>\n",
    "## Simulating Many Coin Flips"
   ]
  },
  {
   "cell_type": "code",
   "execution_count": 20,
   "metadata": {},
   "outputs": [
    {
     "data": {
      "text/plain": [
       "5"
      ]
     },
     "execution_count": 20,
     "metadata": {},
     "output_type": "execute_result"
    }
   ],
   "source": [
    "# number of heads from 10 fair coin flips\n",
    "np.random.binomial(10, 0.5)"
   ]
  },
  {
   "cell_type": "code",
   "execution_count": 21,
   "metadata": {},
   "outputs": [
    {
     "data": {
      "text/plain": [
       "array([2, 6, 9, 3, 7, 6, 6, 6, 6, 6, 6, 7, 4, 3, 8, 7, 4, 5, 7, 5])"
      ]
     },
     "execution_count": 21,
     "metadata": {},
     "output_type": "execute_result"
    }
   ],
   "source": [
    "# results from 20 tests with 10 coin flips\n",
    "np.random.binomial(10, 0.5, 20)"
   ]
  },
  {
   "cell_type": "code",
   "execution_count": 22,
   "metadata": {},
   "outputs": [
    {
     "data": {
      "text/plain": [
       "5.0"
      ]
     },
     "execution_count": 22,
     "metadata": {},
     "output_type": "execute_result"
    }
   ],
   "source": [
    "# mean number of heads from the 20 tests\n",
    "np.random.binomial(10, 0.5, 20).mean()"
   ]
  },
  {
   "cell_type": "code",
   "execution_count": 23,
   "metadata": {},
   "outputs": [
    {
     "data": {
      "text/plain": [
       "5.000386"
      ]
     },
     "execution_count": 23,
     "metadata": {},
     "output_type": "execute_result"
    }
   ],
   "source": [
    "# reflects the fairness of the coin more closely as # tests increases\n",
    "np.random.binomial(10, 0.5, 1000000).mean()"
   ]
  },
  {
   "cell_type": "markdown",
   "metadata": {},
   "source": [
    "### Visualization of Binomial Results\n",
    "\n",
    "#### Pt.1. Flip 10 coins at a time, repeat 1,000,000 times. "
   ]
  },
  {
   "cell_type": "code",
   "execution_count": 24,
   "metadata": {},
   "outputs": [
    {
     "data": {
      "image/png": "[encoded data removed]",
      "text/plain": [
       "<Figure size 432x288 with 1 Axes>"
      ]
     },
     "metadata": {
      "needs_background": "light"
     },
     "output_type": "display_data"
    }
   ],
   "source": [
    "# Visualize the results\n",
    "plt.hist(np.random.binomial(10, 0.5, 1000000), edgecolor='w')\n",
    "\n",
    "# Reset x ticks\n",
    "plt.xticks(np.arange(0.5, 10.5, 1), range(1, 11))\n",
    "\n",
    "# Graph Properties\n",
    "plt.title(\"Binomial Distribution Result\")\n",
    "plt.xlabel(\"Number of Heads\")\n",
    "plt.ylabel('Frequency');"
   ]
  },
  {
   "cell_type": "markdown",
   "metadata": {},
   "source": [
    "#### Pt.2. Flip 100 coins at a time, repeat 1,000,000 times. "
   ]
  },
  {
   "cell_type": "code",
   "execution_count": 25,
   "metadata": {},
   "outputs": [
    {
     "data": {
      "image/png": "[encoded data removed]",
      "text/plain": [
       "<Figure size 432x288 with 1 Axes>"
      ]
     },
     "metadata": {
      "needs_background": "light"
     },
     "output_type": "display_data"
    }
   ],
   "source": [
    "# Visualize the results\n",
    "plt.hist(np.random.binomial(100, 0.5, 1000000), edgecolor='w')\n",
    "\n",
    "# Reset x ticks\n",
    "plt.xticks(range(5, 105, 5), range(5, 105, 5))\n",
    "\n",
    "# Graph Properties\n",
    "plt.title(\"Binomial Distribution Result\")\n",
    "plt.xlabel(\"Number of Heads\")\n",
    "plt.ylabel('Frequency');"
   ]
  },
  {
   "cell_type": "markdown",
   "metadata": {},
   "source": [
    "<a id='binomial_distribution'></a>\n",
    "## Binomial Distribution Simulation Using `np.random.binomial()`\n",
    "\n",
    "**Tasks**\n",
    "1. A fair coin flip produces heads\n",
    "2. Five fair coin flips produce exactly one head\n",
    "3. Ten fair coin flips produce exactly four heads\n",
    "4. Five biased coin flips with P(H) = 0.8 produce exactly five heads\n",
    "5. Ten biased coin flips with P(H) = 0.15 produce at least three heads"
   ]
  },
  {
   "cell_type": "markdown",
   "metadata": {},
   "source": [
    "### 1. A fair coin flip produces heads"
   ]
  },
  {
   "cell_type": "code",
   "execution_count": 26,
   "metadata": {},
   "outputs": [
    {
     "data": {
      "text/plain": [
       "0.500091"
      ]
     },
     "execution_count": 26,
     "metadata": {},
     "output_type": "execute_result"
    }
   ],
   "source": [
    "# simulate 1 million tests of one fair coin flip\n",
    "# remember, the output of these tests are the # successes, or # heads\n",
    "tests = np.random.binomial(1, 0.5, int(1e6))\n",
    "\n",
    "# proportion of tests that produced heads\n",
    "(tests == 1).mean()"
   ]
  },
  {
   "cell_type": "markdown",
   "metadata": {},
   "source": [
    "#### Mathematical Solution"
   ]
  },
  {
   "cell_type": "code",
   "execution_count": 27,
   "metadata": {},
   "outputs": [
    {
     "data": {
      "text/plain": [
       "0.5"
      ]
     },
     "execution_count": 27,
     "metadata": {},
     "output_type": "execute_result"
    }
   ],
   "source": [
    "binomial(1, 1, .5)"
   ]
  },
  {
   "cell_type": "markdown",
   "metadata": {},
   "source": [
    "### 2. Five fair coin flips produce exactly one head"
   ]
  },
  {
   "cell_type": "code",
   "execution_count": 28,
   "metadata": {},
   "outputs": [
    {
     "data": {
      "text/plain": [
       "0.156089"
      ]
     },
     "execution_count": 28,
     "metadata": {},
     "output_type": "execute_result"
    }
   ],
   "source": [
    "# simulate 1 million tests of five fair coin flips\n",
    "tests = np.random.binomial(5, .5, size=int(1e6))\n",
    "\n",
    "# proportion of tests that produced 1 head\n",
    "(tests == 1).mean()"
   ]
  },
  {
   "cell_type": "markdown",
   "metadata": {},
   "source": [
    "#### Mathematical Solution"
   ]
  },
  {
   "cell_type": "code",
   "execution_count": 29,
   "metadata": {},
   "outputs": [
    {
     "data": {
      "text/plain": [
       "0.15625"
      ]
     },
     "execution_count": 29,
     "metadata": {},
     "output_type": "execute_result"
    }
   ],
   "source": [
    "binomial(5, 1, .5)"
   ]
  },
  {
   "cell_type": "markdown",
   "metadata": {},
   "source": [
    "### 3. Ten fair coin flips produce exactly four heads"
   ]
  },
  {
   "cell_type": "code",
   "execution_count": 30,
   "metadata": {
    "scrolled": true
   },
   "outputs": [
    {
     "data": {
      "text/plain": [
       "0.204763"
      ]
     },
     "execution_count": 30,
     "metadata": {},
     "output_type": "execute_result"
    }
   ],
   "source": [
    "# simulate 1 million tests of ten fair coin flips\n",
    "tests = np.random.binomial(10, .5, size=int(1e6))\n",
    "\n",
    "# proportion of tests that produced 4 heads\n",
    "(tests == 4).mean()"
   ]
  },
  {
   "cell_type": "markdown",
   "metadata": {},
   "source": [
    "#### Mathematical Solution"
   ]
  },
  {
   "cell_type": "code",
   "execution_count": 31,
   "metadata": {},
   "outputs": [
    {
     "data": {
      "text/plain": [
       "0.205078125"
      ]
     },
     "execution_count": 31,
     "metadata": {},
     "output_type": "execute_result"
    }
   ],
   "source": [
    "binomial(10, 4, .5)"
   ]
  },
  {
   "cell_type": "markdown",
   "metadata": {},
   "source": [
    "### 4. Five biased coin flips with P(H) = 0.8 produce exactly five heads"
   ]
  },
  {
   "cell_type": "code",
   "execution_count": 32,
   "metadata": {},
   "outputs": [
    {
     "data": {
      "text/plain": [
       "0.327503"
      ]
     },
     "execution_count": 32,
     "metadata": {},
     "output_type": "execute_result"
    }
   ],
   "source": [
    "# simulate 1 million tests of five biased coin flips\n",
    "tests = np.random.binomial(5, p=.8, size=int(1e6))\n",
    "\n",
    "# proportion of tests that produced 5 heads\n",
    "(tests == 5).mean()"
   ]
  },
  {
   "cell_type": "markdown",
   "metadata": {},
   "source": [
    "#### Mathematical Solution"
   ]
  },
  {
   "cell_type": "code",
   "execution_count": 33,
   "metadata": {},
   "outputs": [
    {
     "data": {
      "text/plain": [
       "0.3276800000000001"
      ]
     },
     "execution_count": 33,
     "metadata": {},
     "output_type": "execute_result"
    }
   ],
   "source": [
    "binomial(5, 5, .8)"
   ]
  },
  {
   "cell_type": "markdown",
   "metadata": {},
   "source": [
    "### 5. Ten biased coin flips with P(H) = 0.15 produce at least 3 heads"
   ]
  },
  {
   "cell_type": "code",
   "execution_count": 34,
   "metadata": {},
   "outputs": [
    {
     "data": {
      "text/plain": [
       "0.180129"
      ]
     },
     "execution_count": 34,
     "metadata": {},
     "output_type": "execute_result"
    }
   ],
   "source": [
    "# simulate 1 million tests of ten biased coin flips\n",
    "tests = np.random.binomial(10, p=.15, size=int(1e6))\n",
    "\n",
    "# proportion of tests that produced at least 3 heads\n",
    "(tests >= 3).mean()"
   ]
  },
  {
   "cell_type": "markdown",
   "metadata": {},
   "source": [
    "#### Mathematical Solution"
   ]
  },
  {
   "cell_type": "code",
   "execution_count": 35,
   "metadata": {},
   "outputs": [
    {
     "data": {
      "text/plain": [
       "0.17980351963242214"
      ]
     },
     "execution_count": 35,
     "metadata": {},
     "output_type": "execute_result"
    }
   ],
   "source": [
    "1- (binomial(10, 0, .15) + binomial(10, 1, .15) + binomial(10, 2, .15))"
   ]
  },
  {
   "cell_type": "markdown",
   "metadata": {},
   "source": [
    "<a id='cancer_test'></a>\n",
    "## Cancer Test Results\n",
    "\n",
    "**Questions**\n",
    "- How many patients are there in total?\n",
    "- How many patients have cancer?\n",
    "- How many patients do not have cancer?\n",
    "- What proportion of patients have cancer?\n",
    "- What proportion of patients don't have cancer?\n",
    "- What proportion of patients with cancer test positive?\n",
    "- What proportion of patients with cancer test negative?\n",
    "- What proportion of patients without cancer test positive?\n",
    "- What proportion of patients without cancer test negative?"
   ]
  },
  {
   "cell_type": "code",
   "execution_count": 36,
   "metadata": {},
   "outputs": [
    {
     "data": {
      "text/html": [
       "<div>\n",
       "<style scoped>\n",
       "    .dataframe tbody tr th:only-of-type {\n",
       "        vertical-align: middle;\n",
       "    }\n",
       "\n",
       "    .dataframe tbody tr th {\n",
       "        vertical-align: top;\n",
       "    }\n",
       "\n",
       "    .dataframe thead th {\n",
       "        text-align: right;\n",
       "    }\n",
       "</style>\n",
       "<table border=\"1\" class=\"dataframe\">\n",
       "  <thead>\n",
       "    <tr style=\"text-align: right;\">\n",
       "      <th></th>\n",
       "      <th>patient_id</th>\n",
       "      <th>test_result</th>\n",
       "      <th>has_cancer</th>\n",
       "    </tr>\n",
       "  </thead>\n",
       "  <tbody>\n",
       "    <tr>\n",
       "      <th>0</th>\n",
       "      <td>79452</td>\n",
       "      <td>Negative</td>\n",
       "      <td>False</td>\n",
       "    </tr>\n",
       "    <tr>\n",
       "      <th>1</th>\n",
       "      <td>81667</td>\n",
       "      <td>Positive</td>\n",
       "      <td>True</td>\n",
       "    </tr>\n",
       "    <tr>\n",
       "      <th>2</th>\n",
       "      <td>76297</td>\n",
       "      <td>Negative</td>\n",
       "      <td>False</td>\n",
       "    </tr>\n",
       "    <tr>\n",
       "      <th>3</th>\n",
       "      <td>36593</td>\n",
       "      <td>Negative</td>\n",
       "      <td>False</td>\n",
       "    </tr>\n",
       "    <tr>\n",
       "      <th>4</th>\n",
       "      <td>53717</td>\n",
       "      <td>Negative</td>\n",
       "      <td>False</td>\n",
       "    </tr>\n",
       "  </tbody>\n",
       "</table>\n",
       "</div>"
      ],
      "text/plain": [
       "   patient_id test_result  has_cancer\n",
       "0       79452    Negative       False\n",
       "1       81667    Positive        True\n",
       "2       76297    Negative       False\n",
       "3       36593    Negative       False\n",
       "4       53717    Negative       False"
      ]
     },
     "execution_count": 36,
     "metadata": {},
     "output_type": "execute_result"
    }
   ],
   "source": [
    "# load dataset\n",
    "cancer_df = pd.read_csv(\"cancer_test_data.csv\")\n",
    "cancer_df.head()\n"
   ]
  },
  {
   "cell_type": "code",
   "execution_count": 37,
   "metadata": {},
   "outputs": [
    {
     "name": "stdout",
     "output_type": "stream",
     "text": [
      "There are 2914 patients in total.\n"
     ]
    }
   ],
   "source": [
    "# number of patients\n",
    "num_patients = cancer_df.shape[0]\n",
    "\n",
    "print(\"There are {} patients in total.\".format(num_patients))"
   ]
  },
  {
   "cell_type": "code",
   "execution_count": 38,
   "metadata": {},
   "outputs": [
    {
     "name": "stdout",
     "output_type": "stream",
     "text": [
      "There are 306 patients with cancer.\n"
     ]
    }
   ],
   "source": [
    "# number of patients with cancer\n",
    "cancer_patients = cancer_df[cancer_df.has_cancer==True]\n",
    "num_cancer = cancer_patients.shape[0]\n",
    "\n",
    "print(\"There are {} patients with cancer.\".format(num_cancer))"
   ]
  },
  {
   "cell_type": "code",
   "execution_count": 39,
   "metadata": {},
   "outputs": [
    {
     "name": "stdout",
     "output_type": "stream",
     "text": [
      "There are 2608 patients without cancer.\n"
     ]
    }
   ],
   "source": [
    "# number of patients without cancer\n",
    "free_patients = cancer_df[cancer_df.has_cancer==False]\n",
    "num_cancer_free = free_patients.shape[0]\n",
    "\n",
    "print(\"There are {} patients without cancer.\".format(num_cancer_free))"
   ]
  },
  {
   "cell_type": "code",
   "execution_count": 40,
   "metadata": {},
   "outputs": [
    {
     "name": "stdout",
     "output_type": "stream",
     "text": [
      "The proportion of patients with cancer is 0.105.\n"
     ]
    }
   ],
   "source": [
    "# proportion of patients with cancer\n",
    "prop_cancer = num_cancer / num_patients\n",
    "#prop_cancer = (cancer_df.has_cancer==True).mean()\n",
    "\n",
    "print(\"The proportion of patients with cancer is {:.3f}.\".format(prop_cancer))"
   ]
  },
  {
   "cell_type": "code",
   "execution_count": 41,
   "metadata": {},
   "outputs": [
    {
     "name": "stdout",
     "output_type": "stream",
     "text": [
      "The proportion of patients without cancer is 0.895.\n"
     ]
    }
   ],
   "source": [
    "# proportion of patients without cancer\n",
    "# prop_cancerFree = (cancer_df.has_cancer==False).mean()\n",
    "print(\"The proportion of patients without cancer is {:.3f}.\".format(1 - prop_cancer))"
   ]
  },
  {
   "cell_type": "code",
   "execution_count": 42,
   "metadata": {},
   "outputs": [
    {
     "data": {
      "text/plain": [
       "0.9052287581699346"
      ]
     },
     "execution_count": 42,
     "metadata": {},
     "output_type": "execute_result"
    }
   ],
   "source": [
    "# proportion of patients with cancer who test positive\n",
    "prop_can_pos = (cancer_patients.test_result == 'Positive').mean()\n",
    "prop_can_pos"
   ]
  },
  {
   "cell_type": "code",
   "execution_count": 43,
   "metadata": {},
   "outputs": [
    {
     "data": {
      "text/plain": [
       "0.09477124183006536"
      ]
     },
     "execution_count": 43,
     "metadata": {},
     "output_type": "execute_result"
    }
   ],
   "source": [
    "# proportion of patients with cancer who test negative\n",
    "prop_can_neg = (cancer_patients.test_result == 'Negative').mean()\n",
    "prop_can_neg"
   ]
  },
  {
   "cell_type": "code",
   "execution_count": 44,
   "metadata": {},
   "outputs": [
    {
     "data": {
      "text/plain": [
       "0.2036042944785276"
      ]
     },
     "execution_count": 44,
     "metadata": {},
     "output_type": "execute_result"
    }
   ],
   "source": [
    "# proportion of patients without cancer who test positive\n",
    "prop_free_pos = (free_patients.test_result == 'Positive').mean()\n",
    "prop_free_pos"
   ]
  },
  {
   "cell_type": "code",
   "execution_count": 45,
   "metadata": {},
   "outputs": [
    {
     "data": {
      "text/plain": [
       "0.7963957055214724"
      ]
     },
     "execution_count": 45,
     "metadata": {},
     "output_type": "execute_result"
    }
   ],
   "source": [
    "# proportion of patients without cancer who test negative\n",
    "prop_free_neg = (free_patients.test_result == 'Negative').mean()\n",
    "prop_free_neg"
   ]
  },
  {
   "cell_type": "markdown",
   "metadata": {},
   "source": [
    "<a id='conditional_probability&bayes_rules'></a>\n",
    "## Conditional Probability & Bayes Rule"
   ]
  },
  {
   "cell_type": "markdown",
   "metadata": {},
   "source": [
    "**术语**\n",
    "- 先验概率 prior probability\n",
    "- 后验概率 posterior probability\n",
    "- 敏感度 sensitivity\n",
    "- 特异度 specificity\n",
    "- 联合概率 joint probability\n",
    "- 全概率 total probability\n",
    "\n",
    "$$\n",
    "P(cancer|positive)=\\frac{P(positive|cancer)*P(cancer)}{P(positive|cancer)*P(cancer)+P(positive|\\neg cancer)*P(\\neg cancer)}\n",
    "$$"
   ]
  },
  {
   "cell_type": "markdown",
   "metadata": {},
   "source": [
    "**Questions**\n",
    "\n",
    "1. Probability a patient who tested positive has cancer, or `P(cancer|positive)`\n",
    "2. Probability a patient who tested positive doesn't have cancer, or `P(~cancer|positive)`\n",
    "3. Probability a patient who tested negative has cancer, or `P(cancer|negative)`\n",
    "4. Probability a patient who tested negative doesn't have cancer, or `P(~cancer|negative)`\n",
    "\n",
    "___NOTICE: This exercise needs results from the previous part.___"
   ]
  },
  {
   "cell_type": "code",
   "execution_count": 46,
   "metadata": {},
   "outputs": [
    {
     "data": {
      "text/html": [
       "<div>\n",
       "<style scoped>\n",
       "    .dataframe tbody tr th:only-of-type {\n",
       "        vertical-align: middle;\n",
       "    }\n",
       "\n",
       "    .dataframe tbody tr th {\n",
       "        vertical-align: top;\n",
       "    }\n",
       "\n",
       "    .dataframe thead th {\n",
       "        text-align: right;\n",
       "    }\n",
       "</style>\n",
       "<table border=\"1\" class=\"dataframe\">\n",
       "  <thead>\n",
       "    <tr style=\"text-align: right;\">\n",
       "      <th></th>\n",
       "      <th>patient_id</th>\n",
       "      <th>test_result</th>\n",
       "      <th>has_cancer</th>\n",
       "    </tr>\n",
       "  </thead>\n",
       "  <tbody>\n",
       "    <tr>\n",
       "      <th>0</th>\n",
       "      <td>79452</td>\n",
       "      <td>Negative</td>\n",
       "      <td>False</td>\n",
       "    </tr>\n",
       "    <tr>\n",
       "      <th>1</th>\n",
       "      <td>81667</td>\n",
       "      <td>Positive</td>\n",
       "      <td>True</td>\n",
       "    </tr>\n",
       "    <tr>\n",
       "      <th>2</th>\n",
       "      <td>76297</td>\n",
       "      <td>Negative</td>\n",
       "      <td>False</td>\n",
       "    </tr>\n",
       "    <tr>\n",
       "      <th>3</th>\n",
       "      <td>36593</td>\n",
       "      <td>Negative</td>\n",
       "      <td>False</td>\n",
       "    </tr>\n",
       "    <tr>\n",
       "      <th>4</th>\n",
       "      <td>53717</td>\n",
       "      <td>Negative</td>\n",
       "      <td>False</td>\n",
       "    </tr>\n",
       "  </tbody>\n",
       "</table>\n",
       "</div>"
      ],
      "text/plain": [
       "   patient_id test_result  has_cancer\n",
       "0       79452    Negative       False\n",
       "1       81667    Positive        True\n",
       "2       76297    Negative       False\n",
       "3       36593    Negative       False\n",
       "4       53717    Negative       False"
      ]
     },
     "execution_count": 46,
     "metadata": {},
     "output_type": "execute_result"
    }
   ],
   "source": [
    "# load dataset\n",
    "cancer_df = pd.read_csv(\"cancer_test_data.csv\")\n",
    "cancer_df.head()\n",
    "\n"
   ]
  },
  {
   "cell_type": "code",
   "execution_count": 47,
   "metadata": {},
   "outputs": [],
   "source": [
    "def posterior(prior, sensitivity, specificity):\n",
    "    oppo_prior = 1 - prior\n",
    "    oppo_sensitivity = 1 - sensitivity\n",
    "    oppo_specificity = 1 - specificity\n",
    "    total_p = prior*sensitivity + oppo_prior*oppo_specificity\n",
    "    return prior*sensitivity / total_p\n",
    "        "
   ]
  },
  {
   "cell_type": "code",
   "execution_count": 48,
   "metadata": {},
   "outputs": [
    {
     "data": {
      "text/plain": [
       "0.34282178217821785"
      ]
     },
     "execution_count": 48,
     "metadata": {},
     "output_type": "execute_result"
    }
   ],
   "source": [
    "# What proportion of patients who tested positive have cancer? -- P(cancer|positive)\n",
    "prior = (cancer_df.has_cancer==True).mean()\n",
    "sensitivity = (cancer_df[cancer_df.has_cancer==True].test_result=='Positive').mean()\n",
    "specificity = (cancer_df[cancer_df.has_cancer==False].test_result=='Negative').mean()\n",
    "\n",
    "posterior(prior, sensitivity, specificity)"
   ]
  },
  {
   "cell_type": "code",
   "execution_count": 49,
   "metadata": {},
   "outputs": [
    {
     "data": {
      "text/plain": [
       "0.6571782178217822"
      ]
     },
     "execution_count": 49,
     "metadata": {},
     "output_type": "execute_result"
    }
   ],
   "source": [
    "# What proportion of patients who tested positive don't have cancer?\n",
    "1 - posterior(prior, sensitivity, specificity)"
   ]
  },
  {
   "cell_type": "code",
   "execution_count": 50,
   "metadata": {},
   "outputs": [
    {
     "data": {
      "text/plain": [
       "0.013770180436847102"
      ]
     },
     "execution_count": 50,
     "metadata": {},
     "output_type": "execute_result"
    }
   ],
   "source": [
    "# What proportion of patients who tested negative have cancer? -- P(cancer|negative)\n",
    "prior = (cancer_df.has_cancer==True).mean()\n",
    "sensitivity = (cancer_df[cancer_df.has_cancer==True].test_result=='Negative').mean()\n",
    "specificity = (cancer_df[cancer_df.has_cancer==False].test_result=='Positive').mean()\n",
    "\n",
    "posterior(prior, sensitivity, specificity)"
   ]
  },
  {
   "cell_type": "code",
   "execution_count": 51,
   "metadata": {},
   "outputs": [
    {
     "data": {
      "text/plain": [
       "0.9862298195631529"
      ]
     },
     "execution_count": 51,
     "metadata": {},
     "output_type": "execute_result"
    }
   ],
   "source": [
    "# What proportion of patients who tested negative don't have cancer?\n",
    "1 - posterior(prior, sensitivity, specificity)"
   ]
  },
  {
   "cell_type": "code",
   "execution_count": null,
   "metadata": {},
   "outputs": [],
   "source": []
  }
 ],
 "metadata": {
  "kernelspec": {
   "display_name": "Python 3",
   "language": "python",
   "name": "python3"
  },
  "language_info": {
   "codemirror_mode": {
    "name": "ipython",
    "version": 3
   },
   "file_extension": ".py",
   "mimetype": "text/x-python",
   "name": "python",
   "nbconvert_exporter": "python",
   "pygments_lexer": "ipython3",
   "version": "3.7.9"
  }
 },
 "nbformat": 4,
 "nbformat_minor": 4
}
